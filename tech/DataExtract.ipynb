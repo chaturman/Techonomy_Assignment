{
 "cells": [
  {
   "cell_type": "code",
   "execution_count": 1,
   "metadata": {},
   "outputs": [
    {
     "name": "stdout",
     "output_type": "stream",
     "text": [
      "Requirement already satisfied: kaggle in /home/ch/.local/lib/python3.8/site-packages (1.5.12)\n",
      "Requirement already satisfied: python-dateutil in /usr/lib/python3/dist-packages (from kaggle) (2.7.3)\n",
      "Requirement already satisfied: requests in /usr/lib/python3/dist-packages (from kaggle) (2.22.0)\n",
      "Requirement already satisfied: six>=1.10 in /usr/lib/python3/dist-packages (from kaggle) (1.14.0)\n",
      "Requirement already satisfied: certifi in /usr/lib/python3/dist-packages (from kaggle) (2019.11.28)\n",
      "Requirement already satisfied: tqdm in /home/ch/.local/lib/python3.8/site-packages (from kaggle) (4.64.0)\n",
      "Requirement already satisfied: python-slugify in /home/ch/.local/lib/python3.8/site-packages (from kaggle) (6.1.2)\n",
      "Requirement already satisfied: urllib3 in /usr/lib/python3/dist-packages (from kaggle) (1.25.8)\n",
      "Requirement already satisfied: text-unidecode>=1.3 in /home/ch/.local/lib/python3.8/site-packages (from python-slugify->kaggle) (1.3)\n",
      "Note: you may need to restart the kernel to use updated packages.\n"
     ]
    }
   ],
   "source": [
    "pip install kaggle"
   ]
  },
  {
   "cell_type": "code",
   "execution_count": 2,
   "metadata": {},
   "outputs": [
    {
     "name": "stdout",
     "output_type": "stream",
     "text": [
      "DataExtract.ipynb\n"
     ]
    }
   ],
   "source": [
    "ls"
   ]
  },
  {
   "cell_type": "code",
   "execution_count": 4,
   "metadata": {},
   "outputs": [],
   "source": [
    "mkdir ~/.kaggle"
   ]
  },
  {
   "cell_type": "code",
   "execution_count": 5,
   "metadata": {},
   "outputs": [],
   "source": [
    "cp ~/Downloads/kaggle.json ~/.kaggle/kaggle.json"
   ]
  },
  {
   "cell_type": "code",
   "execution_count": 7,
   "metadata": {},
   "outputs": [
    {
     "name": "stdout",
     "output_type": "stream",
     "text": [
      "Warning: Your Kaggle API key is readable by other users on this system! To fix this, you can run 'chmod 600 /home/ch/.kaggle/kaggle.json'\n",
      "ref                                                    title                                      size  lastUpdated          downloadCount  voteCount  usabilityRating  \n",
      "-----------------------------------------------------  ----------------------------------------  -----  -------------------  -------------  ---------  ---------------  \n",
      "blastchar/telco-customer-churn                         Telco Customer Churn                      172KB  2018-02-23 18:20:00         127676       2093  0.88235295       \n",
      "shubh0799/churn-modelling                              Churn Modelling                           262KB  2020-06-20 17:33:28           7835        147  1.0              \n",
      "shrutimechlearn/churn-modelling                        Churn Modelling                           262KB  2019-04-03 20:00:23          12743        163  0.7647059        \n",
      "barun2104/telecom-churn                                Customer Churn                             45KB  2020-03-23 16:30:13           3733         54  0.9411765        \n",
      "mnassrib/telecom-churn-datasets                        Telecom Churn Dataset                     100KB  2019-07-05 08:08:31           7905         88  1.0              \n",
      "santoshd3/bank-customers                               Bank Customers Churn                      262KB  2018-07-09 09:06:39           5927         90  0.9705882        \n",
      "mathchi/churn-for-bank-customers                       Churn for Bank Customers                  261KB  2020-07-25 06:13:14           5102        103  1.0              \n",
      "shivan118/churn-modeling-dataset                       Churn Modeling Dataset                    262KB  2020-06-25 13:07:33            648         46  0.9411765        \n",
      "jpacse/datasets-for-churn-telecom                      telecom churn (cell2cell)                   4MB  2018-12-14 16:22:18           4845         77  0.64705884       \n",
      "shantanudhakadd/bank-customer-churn-prediction         Bank Customer Churn Prediction            262KB  2022-03-19 04:05:12            958         35  0.9705882        \n",
      "abhinav89/telecom-customer                             Telecom customer                           14MB  2017-08-27 03:01:50           7611        156  0.7058824        \n",
      "tejashvi14/tour-travels-customer-churn-prediction      Tour & Travels Customer Churn Prediction    3KB  2021-10-31 04:33:51           1076         41  1.0              \n",
      "mehmetsabrikunt/internet-service-churn                 Internet Service Provider Customer Churn  764KB  2021-09-10 20:03:52            870         29  1.0              \n",
      "yeanzc/telco-customer-churn-ibm-dataset                Telco customer churn: IBM dataset           1MB  2020-12-07 09:22:41           4147         45  0.7647059        \n",
      "becksddf/churn-in-telecoms-dataset                     Churn in Telecom's dataset                116KB  2017-09-25 03:27:24          14782        158  0.29411766       \n",
      "harriken/employeeturnover                              Daily Happiness & Employee Turnover         4MB  2017-08-07 09:12:12           6256        153  0.88235295       \n",
      "imsparsh/churn-risk-rate-hackerearth-ml                Churn Risk Rate - HackerEarth ML            3MB  2021-03-16 14:03:57            483         16  0.88235295       \n",
      "kukuroo3/churn-model-data-set-competition-form         Churn model data set ( competition form)  271KB  2021-12-16 14:04:04            287         42  0.7058824        \n",
      "weinoose/dataset-for-churn-prediction                  Data for Churn Prediction                 261KB  2022-04-07 19:20:36            460         31  1.0              \n",
      "jitendragoyal/broadband-customers-base-churn-analysis  Broadband Customers Base Churn Analysis     9MB  2020-04-05 19:11:40            673         16  0.88235295       \n"
     ]
    }
   ],
   "source": [
    "!kaggle datasets list -s 'churn'"
   ]
  },
  {
   "cell_type": "code",
   "execution_count": 8,
   "metadata": {},
   "outputs": [
    {
     "name": "stdout",
     "output_type": "stream",
     "text": [
      "Warning: Your Kaggle API key is readable by other users on this system! To fix this, you can run 'chmod 600 /home/ch/.kaggle/kaggle.json'\n",
      "Downloading dataset-for-churn-prediction.zip to /home/ch/Desktop/tech\n",
      "  0%|                                                | 0.00/261k [00:00<?, ?B/s]\n",
      "100%|████████████████████████████████████████| 261k/261k [00:00<00:00, 9.45MB/s]\n"
     ]
    }
   ],
   "source": [
    "!kaggle datasets download -d 'weinoose/dataset-for-churn-prediction'"
   ]
  },
  {
   "cell_type": "code",
   "execution_count": 10,
   "metadata": {},
   "outputs": [
    {
     "name": "stdout",
     "output_type": "stream",
     "text": [
      "Archive:  dfcp.zip\n",
      "  inflating: data.csv                \n"
     ]
    }
   ],
   "source": [
    "!unzip dfcp.zip"
   ]
  },
  {
   "cell_type": "code",
   "execution_count": 12,
   "metadata": {},
   "outputs": [
    {
     "name": "stdout",
     "output_type": "stream",
     "text": [
      "mkdir: cannot create directory ‘data’: File exists\n"
     ]
    }
   ],
   "source": [
    "mkdir data | mv data.csv ~/Desktop/tech/data"
   ]
  }
 ],
 "metadata": {
  "kernelspec": {
   "display_name": "Python 3.8.10 64-bit",
   "language": "python",
   "name": "python3"
  },
  "language_info": {
   "codemirror_mode": {
    "name": "ipython",
    "version": 3
   },
   "file_extension": ".py",
   "mimetype": "text/x-python",
   "name": "python",
   "nbconvert_exporter": "python",
   "pygments_lexer": "ipython3",
   "version": "3.8.10"
  },
  "orig_nbformat": 4,
  "vscode": {
   "interpreter": {
    "hash": "916dbcbb3f70747c44a77c7bcd40155683ae19c65e1c03b4aa3499c5328201f1"
   }
  }
 },
 "nbformat": 4,
 "nbformat_minor": 2
}
